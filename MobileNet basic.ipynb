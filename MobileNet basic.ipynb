{
 "cells": [
  {
   "cell_type": "code",
   "execution_count": 1,
   "metadata": {},
   "outputs": [],
   "source": [
    "import numpy as np\n",
    "import pandas as pd\n",
    "import matplotlib.pyplot as plt\n",
    "import keras\n",
    "import random\n",
    "import os\n",
    "import glob\n",
    "import shutil\n",
    "import itertools\n",
    "import warnings\n",
    "from sklearn.metrics import confusion_matrix"
   ]
  },
  {
   "cell_type": "code",
   "execution_count": 2,
   "metadata": {},
   "outputs": [
    {
     "name": "stderr",
     "output_type": "stream",
     "text": [
      "F:\\Software\\anaconda3\\lib\\site-packages\\ipykernel_launcher.py:1: DeprecationWarning: The Windows bytes API has been deprecated, use Unicode filenames instead\n",
      "  \"\"\"Entry point for launching an IPython kernel.\n"
     ]
    },
    {
     "data": {
      "text/plain": [
       "b'C:\\\\Users\\\\Faramarz\\\\Desktop\\\\Keras Practice'"
      ]
     },
     "execution_count": 2,
     "metadata": {},
     "output_type": "execute_result"
    }
   ],
   "source": [
    "os.getcwdb ()"
   ]
  },
  {
   "cell_type": "markdown",
   "metadata": {},
   "source": [
    "# Making files in my directory"
   ]
  },
  {
   "cell_type": "code",
   "execution_count": 3,
   "metadata": {},
   "outputs": [],
   "source": [
    "os.chdir('cat-dog')\n",
    "if os.path.isdir('train\\dog') is False:\n",
    "    os.makedirs('train\\dog')\n",
    "    os.makedirs('train\\cat')\n",
    "    os.makedirs('valid\\dog')\n",
    "    os.makedirs('valid\\cat')\n",
    "    os.makedirs('test\\dog')\n",
    "    os.makedirs('test\\cat')\n",
    "    for c in random.sample(glob.glob('dog*'),500):\n",
    "        shutil.move(c,'train\\dog')\n",
    "    for c in random.sample(glob.glob('cat*'),500):\n",
    "        shutil.move(c,'train\\cat')\n",
    "    for c in random.sample(glob.glob('dog*'),100):\n",
    "        shutil.move(c,'valid\\dog')\n",
    "    for c in random.sample(glob.glob('cat*'),100):\n",
    "        shutil.move(c,'valid\\cat')\n",
    "    for c in random.sample(glob.glob('dog*'),50):\n",
    "        shutil.move(c,'test\\dog')\n",
    "    for c in random.sample(glob.glob('cat*'),50):\n",
    "        shutil.move(c,'test\\cat')\n",
    "os.chdir('C:\\\\Users\\\\Faramarz\\\\Desktop\\\\Keras Practice')"
   ]
  },
  {
   "cell_type": "code",
   "execution_count": 4,
   "metadata": {},
   "outputs": [],
   "source": [
    "train_path='C:\\\\Users\\\\Faramarz\\\\Desktop\\\\Keras Practice\\\\cat-dog\\\\train'\n",
    "valid_path='C:\\\\Users\\\\Faramarz\\\\Desktop\\\\Keras Practice\\\\cat-dog\\\\valid'\n",
    "test_path='C:\\\\Users\\\\Faramarz\\\\Desktop\\\\Keras Practice\\\\cat-dog\\\\test'"
   ]
  },
  {
   "cell_type": "code",
   "execution_count": 5,
   "metadata": {},
   "outputs": [
    {
     "name": "stdout",
     "output_type": "stream",
     "text": [
      "Found 1000 images belonging to 2 classes.\n",
      "Found 200 images belonging to 2 classes.\n",
      "Found 100 images belonging to 2 classes.\n"
     ]
    }
   ],
   "source": [
    "train_batch=keras.preprocessing.image.ImageDataGenerator(preprocessing_function=keras.applications.vgg16.preprocess_input).flow_from_directory(directory=train_path, target_size=(224,224), classes=['cat','dog'],batch_size=10)\n",
    "valid_batch=keras.preprocessing.image.ImageDataGenerator(preprocessing_function=keras.applications.vgg16.preprocess_input).flow_from_directory(directory=valid_path, target_size=(224,224), classes=['cat','dog'],batch_size=10)\n",
    "test_batch=keras.preprocessing.image.ImageDataGenerator(preprocessing_function=keras.applications.vgg16.preprocess_input).flow_from_directory(directory=test_path, target_size=(224,224), classes=['cat','dog'],batch_size=10)"
   ]
  },
  {
   "cell_type": "code",
   "execution_count": 6,
   "metadata": {},
   "outputs": [],
   "source": [
    "assert train_batch.n==1000\n",
    "assert valid_batch.n==200\n",
    "assert test_batch.n==100\n",
    "assert train_batch.num_classes==valid_batch.num_classes==test_batch.num_classes==2"
   ]
  },
  {
   "cell_type": "code",
   "execution_count": null,
   "metadata": {},
   "outputs": [],
   "source": [
    "img,labels=next(train_batch)"
   ]
  },
  {
   "cell_type": "code",
   "execution_count": null,
   "metadata": {},
   "outputs": [],
   "source": [
    "def plot_images(image):\n",
    "    fig,axis=plt.subplots(1,10, figsize=(20,20))\n",
    "    axis=axis.flatten()\n",
    "    for img,ax in zip(image,axis):\n",
    "        ax.imshow(img)\n",
    "        ax.axis('off')\n",
    "    plt.tight_layout()\n",
    "    plt.show()\n"
   ]
  },
  {
   "cell_type": "code",
   "execution_count": null,
   "metadata": {},
   "outputs": [],
   "source": [
    "#plot_images(img)"
   ]
  },
  {
   "cell_type": "code",
   "execution_count": null,
   "metadata": {},
   "outputs": [],
   "source": [
    "#print(labels)"
   ]
  },
  {
   "cell_type": "code",
   "execution_count": 7,
   "metadata": {},
   "outputs": [],
   "source": [
    "from keras.optimizers import Adam\n",
    "from keras.metrics import categorical_crossentropy\n",
    "from keras.layers import Activation, Dense, Flatten , Conv2D, MaxPool2D"
   ]
  },
  {
   "cell_type": "markdown",
   "metadata": {},
   "source": [
    "# Pridict"
   ]
  },
  {
   "cell_type": "code",
   "execution_count": 8,
   "metadata": {},
   "outputs": [],
   "source": [
    "def plot_confusion(cm,classes,normilize=False,title='Confusion Matrix', cmap=plt.cm.Accent):\n",
    "    plt.imshow(cm, interpolation='nearest',cmap=cmap)\n",
    "    plt.title(title)\n",
    "    plt.colorbar()\n",
    "    tick_marks=np.arange(len(classes))\n",
    "    plt.xticks(tick_marks,classes, rotation=45)\n",
    "    plt.yticks(tick_marks,classes)\n",
    "    \n",
    "    if normilize:\n",
    "        cm=cm.astype('float')/cm.sum(axis=1)[: , np.newaxis]\n",
    "        print('Normilized Confusion Matrix')\n",
    "    else:\n",
    "        print('Without Normalization')\n",
    "        \n",
    "    print(cm)\n",
    "    thresh=cm.max()/2.\n",
    "    for j,i in itertools.product(range (cm.shape[0]), range(cm.shape[1])):\n",
    "        plt.text(i,j,cm[i,j],\n",
    "                color='white' if cm[i,j]>thresh else \"black\")\n",
    "    plt.tight_layout()\n",
    "    plt.ylabel('True Label')\n",
    "    plt.xlabel('Predicted label')"
   ]
  },
  {
   "cell_type": "code",
   "execution_count": 14,
   "metadata": {},
   "outputs": [],
   "source": [
    "from sklearn.metrics import plot_confusion_matrix\n",
    "from keras.preprocessing import image"
   ]
  },
  {
   "cell_type": "code",
   "execution_count": 10,
   "metadata": {},
   "outputs": [],
   "source": [
    "mobil=keras.applications.mobilenet.MobileNet()"
   ]
  },
  {
   "cell_type": "code",
   "execution_count": 27,
   "metadata": {},
   "outputs": [],
   "source": [
    "def prepare_image(file):\n",
    "    img_path=\"prepare_image/\"\n",
    "    img=image.load_img(img_path+file, target_size=(224,224))\n",
    "    img_array=image.img_to_array(img)\n",
    "    img_array_expanded=np.expand_dims(img_array, axis=0)\n",
    "    return keras.applications.mobilenet.preprocess_input(img_array_expanded)"
   ]
  },
  {
   "cell_type": "code",
   "execution_count": 42,
   "metadata": {},
   "outputs": [],
   "source": [
    "from IPython.display import Image\n",
    "my_img=Image(filename=\"prepare_image/\"+'1.jpg',width=300,height=200)\n"
   ]
  },
  {
   "cell_type": "code",
   "execution_count": 43,
   "metadata": {},
   "outputs": [],
   "source": [
    "preprocessed_img=prepare_image(\"1.jpg\")"
   ]
  },
  {
   "cell_type": "code",
   "execution_count": 44,
   "metadata": {},
   "outputs": [],
   "source": [
    "prediction= mobil.predict(preprocessed_img)"
   ]
  },
  {
   "cell_type": "code",
   "execution_count": 46,
   "metadata": {},
   "outputs": [],
   "source": [
    "from keras.applications import imagenet_utils"
   ]
  },
  {
   "cell_type": "code",
   "execution_count": 48,
   "metadata": {},
   "outputs": [],
   "source": [
    "result=imagenet_utils.decode_predictions(prediction)"
   ]
  },
  {
   "cell_type": "code",
   "execution_count": 49,
   "metadata": {},
   "outputs": [
    {
     "data": {
      "text/plain": [
       "[[('n02099601', 'golden_retriever', 0.5680741),\n",
       "  ('n02101388', 'Brittany_spaniel', 0.27741382),\n",
       "  ('n02099267', 'flat-coated_retriever', 0.08685526),\n",
       "  ('n04409515', 'tennis_ball', 0.03451738),\n",
       "  ('n02100583', 'vizsla', 0.010079648)]]"
      ]
     },
     "execution_count": 49,
     "metadata": {},
     "output_type": "execute_result"
    }
   ],
   "source": [
    "result"
   ]
  },
  {
   "cell_type": "markdown",
   "metadata": {},
   "source": [
    "# Converting to Sequential model"
   ]
  }
 ],
 "metadata": {
  "kernelspec": {
   "display_name": "Python 3",
   "language": "python",
   "name": "python3"
  },
  "language_info": {
   "codemirror_mode": {
    "name": "ipython",
    "version": 3
   },
   "file_extension": ".py",
   "mimetype": "text/x-python",
   "name": "python",
   "nbconvert_exporter": "python",
   "pygments_lexer": "ipython3",
   "version": "3.7.6"
  }
 },
 "nbformat": 4,
 "nbformat_minor": 4
}
